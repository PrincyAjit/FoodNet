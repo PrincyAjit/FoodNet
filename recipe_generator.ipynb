{
  "nbformat": 4,
  "nbformat_minor": 0,
  "metadata": {
    "accelerator": "GPU",
    "colab": {
      "name": "recipe generator.ipynb",
      "provenance": [],
      "collapsed_sections": [],
      "toc_visible": true,
      "include_colab_link": true
    },
    "kernelspec": {
      "display_name": "Python 3",
      "name": "python3"
    }
  },
  "cells": [
    {
      "cell_type": "markdown",
      "metadata": {
        "id": "view-in-github",
        "colab_type": "text"
      },
      "source": [
        "<a href=\"https://colab.research.google.com/github/PrincyAjit/FoodNet_Files/blob/master/recipe_generator.ipynb\" target=\"_parent\"><img src=\"https://colab.research.google.com/assets/colab-badge.svg\" alt=\"Open In Colab\"/></a>"
      ]
    },
    {
      "cell_type": "markdown",
      "metadata": {
        "id": "KEVnzB8e_2Mk"
      },
      "source": [
        "## Inverse Cooking: Recipe Generation from Food Images\n",
        "\n"
      ]
    },
    {
      "cell_type": "code",
      "metadata": {
        "id": "8QS8jflRMJBB",
        "outputId": "df1d6dda-f034-47a4-8c5c-0e7ea619883e",
        "colab": {
          "base_uri": "https://localhost:8080/",
          "height": 34
        }
      },
      "source": [
        "!git clone https://github.com/facebookresearch/inversecooking.git"
      ],
      "execution_count": 5,
      "outputs": [
        {
          "output_type": "stream",
          "text": [
            "fatal: destination path 'inversecooking' already exists and is not an empty directory.\n"
          ],
          "name": "stdout"
        }
      ]
    },
    {
      "cell_type": "code",
      "metadata": {
        "id": "LY0UBpnIAgBL",
        "outputId": "bc1090e9-859c-4ff1-f064-b2ebe0863ff0",
        "colab": {
          "base_uri": "https://localhost:8080/",
          "height": 870
        }
      },
      "source": [
        "!pip install -r /content/inversecooking/requirements.txt "
      ],
      "execution_count": 6,
      "outputs": [
        {
          "output_type": "stream",
          "text": [
            "Requirement already satisfied: numpy in /usr/local/lib/python3.6/dist-packages (from -r /content/inversecooking/requirements.txt (line 1)) (1.18.5)\n",
            "Requirement already satisfied: scipy in /usr/local/lib/python3.6/dist-packages (from -r /content/inversecooking/requirements.txt (line 2)) (1.4.1)\n",
            "Requirement already satisfied: matplotlib in /usr/local/lib/python3.6/dist-packages (from -r /content/inversecooking/requirements.txt (line 3)) (3.2.2)\n",
            "Requirement already satisfied: torch==0.4.1 in /usr/local/lib/python3.6/dist-packages (from -r /content/inversecooking/requirements.txt (line 4)) (0.4.1)\n",
            "Requirement already satisfied: torchvision==0.2.1 in /usr/local/lib/python3.6/dist-packages (from -r /content/inversecooking/requirements.txt (line 5)) (0.2.1)\n",
            "Requirement already satisfied: nltk in /usr/local/lib/python3.6/dist-packages (from -r /content/inversecooking/requirements.txt (line 6)) (3.2.5)\n",
            "Requirement already satisfied: Pillow in /usr/local/lib/python3.6/dist-packages (from -r /content/inversecooking/requirements.txt (line 7)) (5.3.0)\n",
            "Requirement already satisfied: tqdm in /usr/local/lib/python3.6/dist-packages (from -r /content/inversecooking/requirements.txt (line 8)) (4.41.1)\n",
            "Requirement already satisfied: lmdb in /usr/local/lib/python3.6/dist-packages (from -r /content/inversecooking/requirements.txt (line 9)) (0.99)\n",
            "Requirement already satisfied: tensorflow in /usr/local/lib/python3.6/dist-packages (from -r /content/inversecooking/requirements.txt (line 10)) (2.3.0)\n",
            "Requirement already satisfied: tensorboardX in /usr/local/lib/python3.6/dist-packages (from -r /content/inversecooking/requirements.txt (line 11)) (2.1)\n",
            "Requirement already satisfied: cycler>=0.10 in /usr/local/lib/python3.6/dist-packages (from matplotlib->-r /content/inversecooking/requirements.txt (line 3)) (0.10.0)\n",
            "Requirement already satisfied: pyparsing!=2.0.4,!=2.1.2,!=2.1.6,>=2.0.1 in /usr/local/lib/python3.6/dist-packages (from matplotlib->-r /content/inversecooking/requirements.txt (line 3)) (2.4.7)\n",
            "Requirement already satisfied: python-dateutil>=2.1 in /usr/local/lib/python3.6/dist-packages (from matplotlib->-r /content/inversecooking/requirements.txt (line 3)) (2.8.1)\n",
            "Requirement already satisfied: kiwisolver>=1.0.1 in /usr/local/lib/python3.6/dist-packages (from matplotlib->-r /content/inversecooking/requirements.txt (line 3)) (1.2.0)\n",
            "Requirement already satisfied: six in /usr/local/lib/python3.6/dist-packages (from torchvision==0.2.1->-r /content/inversecooking/requirements.txt (line 5)) (1.15.0)\n",
            "Requirement already satisfied: grpcio>=1.8.6 in /usr/local/lib/python3.6/dist-packages (from tensorflow->-r /content/inversecooking/requirements.txt (line 10)) (1.32.0)\n",
            "Requirement already satisfied: astunparse==1.6.3 in /usr/local/lib/python3.6/dist-packages (from tensorflow->-r /content/inversecooking/requirements.txt (line 10)) (1.6.3)\n",
            "Requirement already satisfied: wheel>=0.26 in /usr/local/lib/python3.6/dist-packages (from tensorflow->-r /content/inversecooking/requirements.txt (line 10)) (0.35.1)\n",
            "Requirement already satisfied: absl-py>=0.7.0 in /usr/local/lib/python3.6/dist-packages (from tensorflow->-r /content/inversecooking/requirements.txt (line 10)) (0.10.0)\n",
            "Requirement already satisfied: keras-preprocessing<1.2,>=1.1.1 in /usr/local/lib/python3.6/dist-packages (from tensorflow->-r /content/inversecooking/requirements.txt (line 10)) (1.1.2)\n",
            "Requirement already satisfied: tensorflow-estimator<2.4.0,>=2.3.0 in /usr/local/lib/python3.6/dist-packages (from tensorflow->-r /content/inversecooking/requirements.txt (line 10)) (2.3.0)\n",
            "Requirement already satisfied: opt-einsum>=2.3.2 in /usr/local/lib/python3.6/dist-packages (from tensorflow->-r /content/inversecooking/requirements.txt (line 10)) (3.3.0)\n",
            "Requirement already satisfied: google-pasta>=0.1.8 in /usr/local/lib/python3.6/dist-packages (from tensorflow->-r /content/inversecooking/requirements.txt (line 10)) (0.2.0)\n",
            "Requirement already satisfied: gast==0.3.3 in /usr/local/lib/python3.6/dist-packages (from tensorflow->-r /content/inversecooking/requirements.txt (line 10)) (0.3.3)\n",
            "Requirement already satisfied: termcolor>=1.1.0 in /usr/local/lib/python3.6/dist-packages (from tensorflow->-r /content/inversecooking/requirements.txt (line 10)) (1.1.0)\n",
            "Requirement already satisfied: protobuf>=3.9.2 in /usr/local/lib/python3.6/dist-packages (from tensorflow->-r /content/inversecooking/requirements.txt (line 10)) (3.12.4)\n",
            "Requirement already satisfied: wrapt>=1.11.1 in /usr/local/lib/python3.6/dist-packages (from tensorflow->-r /content/inversecooking/requirements.txt (line 10)) (1.12.1)\n",
            "Requirement already satisfied: tensorboard<3,>=2.3.0 in /usr/local/lib/python3.6/dist-packages (from tensorflow->-r /content/inversecooking/requirements.txt (line 10)) (2.3.0)\n",
            "Requirement already satisfied: h5py<2.11.0,>=2.10.0 in /usr/local/lib/python3.6/dist-packages (from tensorflow->-r /content/inversecooking/requirements.txt (line 10)) (2.10.0)\n",
            "Requirement already satisfied: setuptools in /usr/local/lib/python3.6/dist-packages (from protobuf>=3.9.2->tensorflow->-r /content/inversecooking/requirements.txt (line 10)) (50.3.0)\n",
            "Requirement already satisfied: tensorboard-plugin-wit>=1.6.0 in /usr/local/lib/python3.6/dist-packages (from tensorboard<3,>=2.3.0->tensorflow->-r /content/inversecooking/requirements.txt (line 10)) (1.7.0)\n",
            "Requirement already satisfied: google-auth<2,>=1.6.3 in /usr/local/lib/python3.6/dist-packages (from tensorboard<3,>=2.3.0->tensorflow->-r /content/inversecooking/requirements.txt (line 10)) (1.17.2)\n",
            "Requirement already satisfied: requests<3,>=2.21.0 in /usr/local/lib/python3.6/dist-packages (from tensorboard<3,>=2.3.0->tensorflow->-r /content/inversecooking/requirements.txt (line 10)) (2.23.0)\n",
            "Requirement already satisfied: google-auth-oauthlib<0.5,>=0.4.1 in /usr/local/lib/python3.6/dist-packages (from tensorboard<3,>=2.3.0->tensorflow->-r /content/inversecooking/requirements.txt (line 10)) (0.4.1)\n",
            "Requirement already satisfied: markdown>=2.6.8 in /usr/local/lib/python3.6/dist-packages (from tensorboard<3,>=2.3.0->tensorflow->-r /content/inversecooking/requirements.txt (line 10)) (3.2.2)\n",
            "Requirement already satisfied: werkzeug>=0.11.15 in /usr/local/lib/python3.6/dist-packages (from tensorboard<3,>=2.3.0->tensorflow->-r /content/inversecooking/requirements.txt (line 10)) (1.0.1)\n",
            "Requirement already satisfied: rsa<5,>=3.1.4; python_version >= \"3\" in /usr/local/lib/python3.6/dist-packages (from google-auth<2,>=1.6.3->tensorboard<3,>=2.3.0->tensorflow->-r /content/inversecooking/requirements.txt (line 10)) (4.6)\n",
            "Requirement already satisfied: cachetools<5.0,>=2.0.0 in /usr/local/lib/python3.6/dist-packages (from google-auth<2,>=1.6.3->tensorboard<3,>=2.3.0->tensorflow->-r /content/inversecooking/requirements.txt (line 10)) (4.1.1)\n",
            "Requirement already satisfied: pyasn1-modules>=0.2.1 in /usr/local/lib/python3.6/dist-packages (from google-auth<2,>=1.6.3->tensorboard<3,>=2.3.0->tensorflow->-r /content/inversecooking/requirements.txt (line 10)) (0.2.8)\n",
            "Requirement already satisfied: certifi>=2017.4.17 in /usr/local/lib/python3.6/dist-packages (from requests<3,>=2.21.0->tensorboard<3,>=2.3.0->tensorflow->-r /content/inversecooking/requirements.txt (line 10)) (2020.6.20)\n",
            "Requirement already satisfied: idna<3,>=2.5 in /usr/local/lib/python3.6/dist-packages (from requests<3,>=2.21.0->tensorboard<3,>=2.3.0->tensorflow->-r /content/inversecooking/requirements.txt (line 10)) (2.10)\n",
            "Requirement already satisfied: urllib3!=1.25.0,!=1.25.1,<1.26,>=1.21.1 in /usr/local/lib/python3.6/dist-packages (from requests<3,>=2.21.0->tensorboard<3,>=2.3.0->tensorflow->-r /content/inversecooking/requirements.txt (line 10)) (1.24.3)\n",
            "Requirement already satisfied: chardet<4,>=3.0.2 in /usr/local/lib/python3.6/dist-packages (from requests<3,>=2.21.0->tensorboard<3,>=2.3.0->tensorflow->-r /content/inversecooking/requirements.txt (line 10)) (3.0.4)\n",
            "Requirement already satisfied: requests-oauthlib>=0.7.0 in /usr/local/lib/python3.6/dist-packages (from google-auth-oauthlib<0.5,>=0.4.1->tensorboard<3,>=2.3.0->tensorflow->-r /content/inversecooking/requirements.txt (line 10)) (1.3.0)\n",
            "Requirement already satisfied: importlib-metadata; python_version < \"3.8\" in /usr/local/lib/python3.6/dist-packages (from markdown>=2.6.8->tensorboard<3,>=2.3.0->tensorflow->-r /content/inversecooking/requirements.txt (line 10)) (2.0.0)\n",
            "Requirement already satisfied: pyasn1>=0.1.3 in /usr/local/lib/python3.6/dist-packages (from rsa<5,>=3.1.4; python_version >= \"3\"->google-auth<2,>=1.6.3->tensorboard<3,>=2.3.0->tensorflow->-r /content/inversecooking/requirements.txt (line 10)) (0.4.8)\n",
            "Requirement already satisfied: oauthlib>=3.0.0 in /usr/local/lib/python3.6/dist-packages (from requests-oauthlib>=0.7.0->google-auth-oauthlib<0.5,>=0.4.1->tensorboard<3,>=2.3.0->tensorflow->-r /content/inversecooking/requirements.txt (line 10)) (3.1.0)\n",
            "Requirement already satisfied: zipp>=0.5 in /usr/local/lib/python3.6/dist-packages (from importlib-metadata; python_version < \"3.8\"->markdown>=2.6.8->tensorboard<3,>=2.3.0->tensorflow->-r /content/inversecooking/requirements.txt (line 10)) (3.2.0)\n"
          ],
          "name": "stdout"
        }
      ]
    },
    {
      "cell_type": "code",
      "metadata": {
        "id": "VYqlHUQhSN9R",
        "outputId": "afdc512b-41a8-411b-c2d7-70acad8b2df1",
        "colab": {
          "base_uri": "https://localhost:8080/",
          "height": 71
        }
      },
      "source": [
        "pip install torch_nightly -f https://download.pytorch.org/whl/nightly/cu92/torch_nightly.html\n"
      ],
      "execution_count": 7,
      "outputs": [
        {
          "output_type": "stream",
          "text": [
            "Looking in links: https://download.pytorch.org/whl/nightly/cu92/torch_nightly.html\n",
            "Requirement already satisfied: torch_nightly in /usr/local/lib/python3.6/dist-packages (1.2.0.dev20190805+cu92)\n"
          ],
          "name": "stdout"
        }
      ]
    },
    {
      "cell_type": "code",
      "metadata": {
        "id": "B34ROiMZUeWi",
        "outputId": "39e3b48e-e926-4ded-b623-e1cd633f8561",
        "colab": {
          "base_uri": "https://localhost:8080/",
          "height": 530
        }
      },
      "source": [
        "# we need pillow version of 5.3.0\n",
        "# we will uninstall the older version first\n",
        "!pip uninstall -y Pillow\n",
        "# install the new one\n",
        "!pip install Pillow==5.3.0\n",
        "!pip install torch==1.1.0 torchvision==0.3.0 #torch version 1.1.0 is required to get the right device which is cuda 0 with dtype Byte\n",
        "# import the new one\n",
        "import PIL\n",
        "print(PIL.PILLOW_VERSION)\n",
        "# this should print 5.3.0. If it doesn't, then restart your runtime:\n",
        "# Menu > Runtime > Restart Runtime"
      ],
      "execution_count": 8,
      "outputs": [
        {
          "output_type": "stream",
          "text": [
            "Uninstalling Pillow-5.3.0:\n",
            "  Successfully uninstalled Pillow-5.3.0\n",
            "Collecting Pillow==5.3.0\n",
            "  Using cached https://files.pythonhosted.org/packages/62/94/5430ebaa83f91cc7a9f687ff5238e26164a779cca2ef9903232268b0a318/Pillow-5.3.0-cp36-cp36m-manylinux1_x86_64.whl\n",
            "\u001b[31mERROR: fastai 1.0.61 has requirement torch>=1.0.0, but you'll have torch 0.4.1 which is incompatible.\u001b[0m\n",
            "\u001b[31mERROR: albumentations 0.1.12 has requirement imgaug<0.2.7,>=0.2.5, but you'll have imgaug 0.2.9 which is incompatible.\u001b[0m\n",
            "Installing collected packages: Pillow\n",
            "Successfully installed Pillow-5.3.0\n"
          ],
          "name": "stdout"
        },
        {
          "output_type": "display_data",
          "data": {
            "application/vnd.colab-display-data+json": {
              "pip_warning": {
                "packages": [
                  "PIL"
                ]
              }
            }
          },
          "metadata": {
            "tags": []
          }
        },
        {
          "output_type": "stream",
          "text": [
            "Collecting torch==1.1.0\n",
            "  Using cached https://files.pythonhosted.org/packages/69/60/f685fb2cfb3088736bafbc9bdbb455327bdc8906b606da9c9a81bae1c81e/torch-1.1.0-cp36-cp36m-manylinux1_x86_64.whl\n",
            "Collecting torchvision==0.3.0\n",
            "  Using cached https://files.pythonhosted.org/packages/2e/45/0f2f3062c92d9cf1d5d7eabd3cae88cea9affbd2b17fb1c043627838cb0a/torchvision-0.3.0-cp36-cp36m-manylinux1_x86_64.whl\n",
            "Requirement already satisfied: numpy in /usr/local/lib/python3.6/dist-packages (from torch==1.1.0) (1.18.5)\n",
            "Requirement already satisfied: pillow>=4.1.1 in /usr/local/lib/python3.6/dist-packages (from torchvision==0.3.0) (5.3.0)\n",
            "Requirement already satisfied: six in /usr/local/lib/python3.6/dist-packages (from torchvision==0.3.0) (1.15.0)\n",
            "Installing collected packages: torch, torchvision\n",
            "  Found existing installation: torch 0.4.1\n",
            "    Uninstalling torch-0.4.1:\n",
            "      Successfully uninstalled torch-0.4.1\n",
            "  Found existing installation: torchvision 0.2.1\n",
            "    Uninstalling torchvision-0.2.1:\n",
            "      Successfully uninstalled torchvision-0.2.1\n",
            "Successfully installed torch-1.1.0 torchvision-0.3.0\n",
            "5.3.0\n"
          ],
          "name": "stdout"
        }
      ]
    },
    {
      "cell_type": "code",
      "metadata": {
        "id": "pubY2IybKIfu",
        "outputId": "c472ed93-765d-4e84-8e1e-2c2a4339073f",
        "colab": {
          "base_uri": "https://localhost:8080/",
          "height": 34
        }
      },
      "source": [
        "%cd /content/inversecooking/src"
      ],
      "execution_count": 9,
      "outputs": [
        {
          "output_type": "stream",
          "text": [
            "/content/inversecooking/src\n"
          ],
          "name": "stdout"
        }
      ]
    },
    {
      "cell_type": "code",
      "metadata": {
        "id": "uywcI8yb_2Ml"
      },
      "source": [
        "import matplotlib.pyplot as plt\n",
        "import torch\n",
        "import torch.nn as nn\n",
        "import numpy as np\n",
        "import os\n",
        "from args import get_parser\n",
        "import pickle\n",
        "from model import get_model\n",
        "from torchvision import transforms\n",
        "from utils.output_utils import prepare_output\n",
        "from PIL import Image\n",
        "import time"
      ],
      "execution_count": 10,
      "outputs": []
    },
    {
      "cell_type": "code",
      "metadata": {
        "id": "re0a96xkMyyq",
        "outputId": "75d93e1a-7115-42c9-a21c-aac41d8cf516",
        "colab": {
          "base_uri": "https://localhost:8080/",
          "height": 615
        }
      },
      "source": [
        "%cd /content/inversecooking/data\n",
        "!wget https://dl.fbaipublicfiles.com/inversecooking/modelbest.ckpt\n",
        "!wget https://dl.fbaipublicfiles.com/inversecooking/ingr_vocab.pkl\n",
        "!wget https://dl.fbaipublicfiles.com/inversecooking/instr_vocab.pkl"
      ],
      "execution_count": 11,
      "outputs": [
        {
          "output_type": "stream",
          "text": [
            "/content/inversecooking/data\n",
            "--2020-10-20 10:15:37--  https://dl.fbaipublicfiles.com/inversecooking/modelbest.ckpt\n",
            "Resolving dl.fbaipublicfiles.com (dl.fbaipublicfiles.com)... 104.22.75.142, 172.67.9.4, 104.22.74.142, ...\n",
            "Connecting to dl.fbaipublicfiles.com (dl.fbaipublicfiles.com)|104.22.75.142|:443... connected.\n",
            "HTTP request sent, awaiting response... 200 OK\n",
            "Length: 415464764 (396M) [application/octet-stream]\n",
            "Saving to: ‘modelbest.ckpt.2’\n",
            "\n",
            "modelbest.ckpt.2    100%[===================>] 396.22M  12.1MB/s    in 34s     \n",
            "\n",
            "2020-10-20 10:16:13 (11.6 MB/s) - ‘modelbest.ckpt.2’ saved [415464764/415464764]\n",
            "\n",
            "--2020-10-20 10:16:13--  https://dl.fbaipublicfiles.com/inversecooking/ingr_vocab.pkl\n",
            "Resolving dl.fbaipublicfiles.com (dl.fbaipublicfiles.com)... 172.67.9.4, 104.22.74.142, 104.22.75.142, ...\n",
            "Connecting to dl.fbaipublicfiles.com (dl.fbaipublicfiles.com)|172.67.9.4|:443... connected.\n",
            "HTTP request sent, awaiting response... 200 OK\n",
            "Length: 30658 (30K) [application/octet-stream]\n",
            "Saving to: ‘ingr_vocab.pkl.2’\n",
            "\n",
            "ingr_vocab.pkl.2    100%[===================>]  29.94K   185KB/s    in 0.2s    \n",
            "\n",
            "2020-10-20 10:16:14 (185 KB/s) - ‘ingr_vocab.pkl.2’ saved [30658/30658]\n",
            "\n",
            "--2020-10-20 10:16:14--  https://dl.fbaipublicfiles.com/inversecooking/instr_vocab.pkl\n",
            "Resolving dl.fbaipublicfiles.com (dl.fbaipublicfiles.com)... 104.22.75.142, 104.22.74.142, 172.67.9.4, ...\n",
            "Connecting to dl.fbaipublicfiles.com (dl.fbaipublicfiles.com)|104.22.75.142|:443... connected.\n",
            "HTTP request sent, awaiting response... 200 OK\n",
            "Length: 464869 (454K) [application/octet-stream]\n",
            "Saving to: ‘instr_vocab.pkl.2’\n",
            "\n",
            "instr_vocab.pkl.2   100%[===================>] 453.97K   688KB/s    in 0.7s    \n",
            "\n",
            "2020-10-20 10:16:15 (688 KB/s) - ‘instr_vocab.pkl.2’ saved [464869/464869]\n",
            "\n"
          ],
          "name": "stdout"
        }
      ]
    },
    {
      "cell_type": "code",
      "metadata": {
        "id": "qPA3UtEPMqHB",
        "outputId": "3793cd52-0fcb-4e00-d8ac-2a03b3e36ac3",
        "colab": {
          "base_uri": "https://localhost:8080/",
          "height": 34
        }
      },
      "source": [
        "%cd /content/inversecooking/src"
      ],
      "execution_count": 12,
      "outputs": [
        {
          "output_type": "stream",
          "text": [
            "/content/inversecooking/src\n"
          ],
          "name": "stdout"
        }
      ]
    },
    {
      "cell_type": "code",
      "metadata": {
        "id": "1ROo0AjU_2Mp"
      },
      "source": [
        "data_dir = '../data'"
      ],
      "execution_count": 13,
      "outputs": []
    },
    {
      "cell_type": "code",
      "metadata": {
        "id": "ED4l3o2W_2Ms"
      },
      "source": [
        "# code will run in gpu if available and if the flag is set to True, else it will run on cpu\n",
        "use_gpu = True\n",
        "device = torch.device('cuda' if torch.cuda.is_available() and use_gpu else 'cpu')\n",
        "map_loc = None if torch.cuda.is_available() and use_gpu else 'cpu'"
      ],
      "execution_count": 14,
      "outputs": []
    },
    {
      "cell_type": "code",
      "metadata": {
        "id": "IgUOEOtG_2Mv"
      },
      "source": [
        "# code below was used to save vocab files so that they can be loaded without Vocabulary class\n",
        "#ingrs_vocab = pickle.load(open(os.path.join(data_dir, 'final_recipe1m_vocab_ingrs.pkl'), 'rb'))\n",
        "#ingrs_vocab = [min(w, key=len) if not isinstance(w, str) else w for w in ingrs_vocab.idx2word.values()]\n",
        "#vocab = pickle.load(open(os.path.join(data_dir, 'final_recipe1m_vocab_toks.pkl'), 'rb')).idx2word\n",
        "#pickle.dump(ingrs_vocab, open('../demo/ingr_vocab.pkl', 'wb'))\n",
        "#pickle.dump(vocab, open('../demo/instr_vocab.pkl', 'wb'))\n",
        "\n",
        "ingrs_vocab = pickle.load(open(os.path.join(data_dir, 'ingr_vocab.pkl'), 'rb'))\n",
        "vocab = pickle.load(open(os.path.join(data_dir, 'instr_vocab.pkl'), 'rb'))\n",
        "\n",
        "ingr_vocab_size = len(ingrs_vocab)\n",
        "instrs_vocab_size = len(vocab)\n",
        "output_dim = instrs_vocab_size"
      ],
      "execution_count": 15,
      "outputs": []
    },
    {
      "cell_type": "code",
      "metadata": {
        "id": "3UpFbXJy_2Mx",
        "outputId": "0ebf88f5-5bd9-40d7-e472-7548679eabf9",
        "colab": {
          "base_uri": "https://localhost:8080/",
          "height": 34
        }
      },
      "source": [
        "print (instrs_vocab_size, ingr_vocab_size)"
      ],
      "execution_count": 16,
      "outputs": [
        {
          "output_type": "stream",
          "text": [
            "23231 1488\n"
          ],
          "name": "stdout"
        }
      ]
    },
    {
      "cell_type": "code",
      "metadata": {
        "id": "bnnAslvJ_2M0",
        "outputId": "eb5d2466-9adc-421f-e21e-7ebc556f93cb",
        "colab": {
          "base_uri": "https://localhost:8080/",
          "height": 105
        }
      },
      "source": [
        "t = time.time()\n",
        "import sys; sys.argv=['']; del sys\n",
        "args = get_parser()\n",
        "args.maxseqlen = 15\n",
        "args.ingrs_only=False\n",
        "model = get_model(args, ingr_vocab_size, instrs_vocab_size)\n",
        "# Load the trained model parameters\n",
        "model_path = os.path.join(data_dir, 'modelbest.ckpt')\n",
        "model.load_state_dict(torch.load(model_path, map_location=map_loc))\n",
        "model.to(device)\n",
        "model.eval()\n",
        "model.ingrs_only = False\n",
        "model.recipe_only = False\n",
        "print ('loaded model')\n",
        "print (\"Elapsed time:\", time.time() -t)\n"
      ],
      "execution_count": 17,
      "outputs": [
        {
          "output_type": "stream",
          "text": [
            "/usr/local/lib/python3.6/dist-packages/torch/nn/_reduction.py:46: UserWarning: size_average and reduce args will be deprecated, please use reduction='none' instead.\n",
            "  warnings.warn(warning.format(ret))\n"
          ],
          "name": "stderr"
        },
        {
          "output_type": "stream",
          "text": [
            "loaded model\n",
            "Elapsed time: 5.203873634338379\n"
          ],
          "name": "stdout"
        }
      ]
    },
    {
      "cell_type": "code",
      "metadata": {
        "id": "2qMzXwMg_2M3"
      },
      "source": [
        "transf_list_batch = []\n",
        "transf_list_batch.append(transforms.ToTensor())\n",
        "transf_list_batch.append(transforms.Normalize((0.485, 0.456, 0.406), \n",
        "                                              (0.229, 0.224, 0.225)))\n",
        "to_input_transf = transforms.Compose(transf_list_batch)"
      ],
      "execution_count": 18,
      "outputs": []
    },
    {
      "cell_type": "code",
      "metadata": {
        "id": "peGbDJJc_2M6"
      },
      "source": [
        "greedy = [True, False, False, False]\n",
        "beam = [-1, -1, -1, -1]\n",
        "temperature = 1.0\n",
        "numgens = len(greedy)"
      ],
      "execution_count": 20,
      "outputs": []
    },
    {
      "cell_type": "code",
      "metadata": {
        "id": "sHVHB2hOVmhA"
      },
      "source": [
        "def remove_transparency(im, bg_colour=(255, 255, 255)):\n",
        "\n",
        "    # Only process if image has transparency (http://stackoverflow.com/a/1963146)\n",
        "    #if im.mode in ('RGBA', 'LA') or (im.mode == 'P' and 'transparency' in im.info):\n",
        "    if im.mode in ('RGBA', 'LA'):\n",
        "\n",
        "        # Need to convert to RGBA if LA format due to a bug in PIL (http://stackoverflow.com/a/1963146)\n",
        "        alpha = im.convert('RGBA').split()[-1]\n",
        "\n",
        "        # Create a new background image of our matt color.\n",
        "        # Must be RGBA because paste requires both images have the same format\n",
        "        # (http://stackoverflow.com/a/8720632  and  http://stackoverflow.com/a/9459208)\n",
        "        bg = Image.new(\"RGBA\", im.size, bg_colour + (255,))\n",
        "        bg.paste(im, mask=alpha)\n",
        "        return bg\n",
        "\n",
        "    else:\n",
        "        return im"
      ],
      "execution_count": 21,
      "outputs": []
    },
    {
      "cell_type": "code",
      "metadata": {
        "id": "VeCM8qPQXQZR",
        "outputId": "fe033ad2-4924-4912-bafe-5d0c48747b1b",
        "colab": {
          "base_uri": "https://localhost:8080/",
          "height": 34
        }
      },
      "source": [
        "#Delete The Sample Images if you want to use your own in the directory:\n",
        "\n",
        "!rm /content/inversecooking/data/demo_imgs/*.jpg"
      ],
      "execution_count": 22,
      "outputs": [
        {
          "output_type": "stream",
          "text": [
            "rm: cannot remove '/content/inversecooking/data/demo_imgs/*.jpg': No such file or directory\n"
          ],
          "name": "stdout"
        }
      ]
    },
    {
      "cell_type": "code",
      "metadata": {
        "id": "_fjYwWepiU7i"
      },
      "source": [
        "import requests\n",
        "from io import BytesIO\n",
        "import random\n",
        "from collections import Counter\n",
        "import glob\n",
        "from shutil import move"
      ],
      "execution_count": 23,
      "outputs": []
    },
    {
      "cell_type": "markdown",
      "metadata": {
        "id": "5aQ5MA-zY6c3"
      },
      "source": [
        "You should only need to re-run the cells below when you change images. \n",
        "If something does go wrong, usually a restart runtime fixes it."
      ]
    },
    {
      "cell_type": "code",
      "metadata": {
        "id": "HB4KPOh4_2M-",
        "scrolled": true,
        "outputId": "c9faf7a3-75e5-4852-ea65-09726a011c93",
        "colab": {
          "resources": {
            "http://localhost:8080/nbextensions/google.colab/files.js": {
              "data": "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",
              "ok": true,
              "headers": [
                [
                  "content-type",
                  "application/javascript"
                ]
              ],
              "status": 200,
              "status_text": ""
            }
          },
          "base_uri": "https://localhost:8080/",
          "height": 89
        }
      },
      "source": [
        "#@title Images sources {\"run\": \"auto\"}\n",
        "\n",
        "images_from = 'local fylesistem' #@param [\"Demo URLs\", \"local fylesistem\"]\n",
        "use_urls = True if images_from == \"Demo URLs\" else False\n",
        "show_anyways = False #if True, it will show the recipe even if it's not valid\n",
        "image_folder = os.path.join(data_dir, 'demo_imgs')\n",
        "\n",
        "if not use_urls:\n",
        "    #demo_imgs = os.listdir(image_folder)\n",
        "    from google.colab import files\n",
        "    uploaded = files.upload()\n",
        "    \n",
        "    for fn in uploaded.keys():\n",
        "        print(fn)\n",
        "        move(fn, image_folder + \"/\" + fn)\n",
        "   \n",
        "    \n",
        "    demo_imgs = [os.path.basename(f) for f in glob.glob(image_folder + \"/*.jpg\")]\n",
        "    demo_imgs = demo_imgs + [os.path.basename(f) for f in glob.glob(image_folder + \"/*.jpeg\")]\n",
        "    demo_imgs = demo_imgs + [os.path.basename(f) for f in glob.glob(image_folder + \"/*.png\")]\n",
        "   \n",
        "    #random.shuffle(demo_imgs)\n",
        "\n",
        "demo_urls = ['http://images.media-allrecipes.com/userphotos/960x960/5544320.jpg',\n",
        "            'https://i.kym-cdn.com/photos/images/newsfeed/001/504/739/5c0.jpg',\n",
        "            'https://cdn.pixabay.com/photo/2015/07/11/08/59/moon-840635_960_720.png',\n",
        "            'https://upload.wikimedia.org/wikipedia/commons/5/56/Donald_Trump_official_portrait.jpg',\n",
        "            'https://images-na.ssl-images-amazon.com/images/I/71lnQdxlWzL._SL1500_.jpg']\n",
        "\n",
        "demo_files = demo_urls if use_urls else demo_imgs"
      ],
      "execution_count": 24,
      "outputs": [
        {
          "output_type": "display_data",
          "data": {
            "text/html": [
              "\n",
              "     <input type=\"file\" id=\"files-5ff51b34-0473-43b1-8f5b-9bf7211ae299\" name=\"files[]\" multiple disabled\n",
              "        style=\"border:none\" />\n",
              "     <output id=\"result-5ff51b34-0473-43b1-8f5b-9bf7211ae299\">\n",
              "      Upload widget is only available when the cell has been executed in the\n",
              "      current browser session. Please rerun this cell to enable.\n",
              "      </output>\n",
              "      <script src=\"/nbextensions/google.colab/files.js\"></script> "
            ],
            "text/plain": [
              "<IPython.core.display.HTML object>"
            ]
          },
          "metadata": {
            "tags": []
          }
        },
        {
          "output_type": "stream",
          "text": [
            "Saving images (1).jpeg to images (1).jpeg\n",
            "images (1).jpeg\n"
          ],
          "name": "stdout"
        }
      ]
    },
    {
      "cell_type": "code",
      "metadata": {
        "id": "dXjtKdrXXaEo",
        "outputId": "665e9a1b-89b0-4a4d-fd3c-172631c62d8c",
        "colab": {
          "base_uri": "https://localhost:8080/",
          "height": 34
        }
      },
      "source": [
        "print(\"Images to be Reciped: \" + str(demo_files))"
      ],
      "execution_count": 25,
      "outputs": [
        {
          "output_type": "stream",
          "text": [
            "Images to be Reciped: ['images (1).jpeg']\n"
          ],
          "name": "stdout"
        }
      ]
    },
    {
      "cell_type": "code",
      "metadata": {
        "id": "KcuROi_t_2NA",
        "outputId": "f809f1ea-a14b-484f-b7ed-1dc5311caa6e",
        "colab": {
          "base_uri": "https://localhost:8080/",
          "height": 1000
        }
      },
      "source": [
        "for img_file in demo_files:\n",
        "    \n",
        "    if use_urls:\n",
        "        response = requests.get(img_file)\n",
        "        image = Image.open(BytesIO(response.content))\n",
        "    else:\n",
        "        image_path = os.path.join(image_folder, img_file)\n",
        "        image = Image.open(image_path)\n",
        "    \n",
        "    #print(image.mode)\n",
        "    if image.mode != 'RGB':\n",
        "        #If you just convert to RGB, sometimes the background ends up black, though I'm not sure if it effects the model\n",
        "        image = remove_transparency(image)\n",
        "        image = image.convert('RGB')\n",
        "   \n",
        "    transf_list = []\n",
        "    transf_list.append(transforms.Resize(256))\n",
        "    transf_list.append(transforms.CenterCrop(224))\n",
        "    transform = transforms.Compose(transf_list)\n",
        "    \n",
        "    image_transf = transform(image)\n",
        "    image_tensor = to_input_transf(image_transf).unsqueeze(0).to(device)\n",
        "    \n",
        "    plt.imshow(image_transf)\n",
        "    plt.axis('off')\n",
        "    plt.show()\n",
        "    plt.close()\n",
        "    \n",
        "    num_valid = 1\n",
        "    for i in range(numgens):\n",
        "        with torch.no_grad():\n",
        "            outputs = model.sample(image_tensor, greedy=greedy[i],temperature=temperature, beam=beam[i], true_ingrs=None)\n",
        "            \n",
        "        ingr_ids = outputs['ingr_ids'].cpu().numpy()\n",
        "        recipe_ids = outputs['recipe_ids'].cpu().numpy()\n",
        "            \n",
        "        outs, valid = prepare_output(recipe_ids[0], ingr_ids[0], ingrs_vocab, vocab)\n",
        "        \n",
        "        if valid['is_valid'] or show_anyways:\n",
        "            \n",
        "            print ('RECIPE', num_valid)\n",
        "            num_valid+=1\n",
        "            #print (\"greedy:\", greedy[i], \"beam:\", beam[i])\n",
        "    \n",
        "            BOLD = '\\033[1m'\n",
        "            END = '\\033[0m'\n",
        "            print (BOLD + '\\nTitle:' + END,outs['title'])\n",
        "\n",
        "            print (BOLD + '\\nIngredients:'+ END)\n",
        "            print (', '.join(outs['ingrs']))\n",
        "\n",
        "            print (BOLD + '\\nInstructions:'+END)\n",
        "            print ('-'+'\\n-'.join(outs['recipe']))\n",
        "\n",
        "            print ('='*20)\n",
        "\n",
        "        else:\n",
        "            pass\n",
        "            print (\"Not a valid recipe!\")\n",
        "            print (\"Reason: \", valid['reason'])\n",
        "        "
      ],
      "execution_count": 26,
      "outputs": [
        {
          "output_type": "display_data",
          "data": {
            "image/png": "[encoded data removed]",
            "text/plain": [
              "<Figure size 432x288 with 1 Axes>"
            ]
          },
          "metadata": {
            "tags": [],
            "needs_background": "light"
          }
        },
        {
          "output_type": "stream",
          "text": [
            "RECIPE 1\n",
            "\u001b[1m\n",
            "Title:\u001b[0m Pasta with fresh tomato sauce\n",
            "\u001b[1m\n",
            "Ingredients:\u001b[0m\n",
            "pasta, cheese, basil, pepper, tomato, oil\n",
            "\u001b[1m\n",
            "Instructions:\u001b[0m\n",
            "-Cook pasta as directed on package, omitting salt.\n",
            "-Meanwhile, heat oil in large skillet on medium heat.\n",
            "-Add tomatoes; cook and stir 5 min.\n",
            "-Or until heated through.\n",
            "-Drain pasta.\n",
            "-Add to tomato mixture along with the basil and cheese; mix lightly.\n",
            "====================\n",
            "RECIPE 2\n",
            "\u001b[1m\n",
            "Title:\u001b[0m 20-minute one-pot pasta primavera\n",
            "\u001b[1m\n",
            "Ingredients:\u001b[0m\n",
            "pasta, cheese, basil, pepper, tomato, oil\n",
            "\u001b[1m\n",
            "Instructions:\u001b[0m\n",
            "-Heat olive oil in large nonstick skillet on medium-high heat.\n",
            "-Add peppers; cook and stir 3 to 5 min.\n",
            "-Or until crisp-tender.\n",
            "-Stir in rotini; cook 4 min.\n",
            "-Or until heated through.\n",
            "-Add tomatoes; mix lightly.\n",
            "-Sprinkle with cheese.\n",
            "-Cook 1 min.\n",
            "-Or until cheese is completely melted and mixture is heated through, stirring occasionally.\n",
            "====================\n",
            "RECIPE 3\n",
            "\u001b[1m\n",
            "Title:\u001b[0m Pasta with tomato & basil\n",
            "\u001b[1m\n",
            "Ingredients:\u001b[0m\n",
            "pasta, cheese, basil, pepper, tomato, oil\n",
            "\u001b[1m\n",
            "Instructions:\u001b[0m\n",
            "-Cook pasta in large saucepan as directed on package, omitting salt and adding tomatoes with their liquid with the pasta cooking water to the boiling water for the last 3 min.\n",
            "-; drain.\n",
            "-Heat oil in large skillet on medium-high heat.\n",
            "-Add onions; cook 2 min.\n",
            "-Or until crisp-tender.\n",
            "-Add pepper, tomatoes and basil; mix lightly.\n",
            "-Cook 3 min.\n",
            "-Or until heated through, stirring frequently.\n",
            "-Remove from heat.\n",
            "-Stir in cheese; top with parmesan.\n",
            "====================\n",
            "RECIPE 4\n",
            "\u001b[1m\n",
            "Title:\u001b[0m Fresh tomato & basil pasta\n",
            "\u001b[1m\n",
            "Ingredients:\u001b[0m\n",
            "pasta, cheese, basil, pepper, tomato, oil\n",
            "\u001b[1m\n",
            "Instructions:\u001b[0m\n",
            "-Cook pasta as directed on package, omitting salt.\n",
            "-Meanwhile, heat oil in large skillet on medium-high heat.\n",
            "-Add tomatoes; simmer 4 min., stirring occasionally.\n",
            "-Drain pasta; place in large bowl.\n",
            "-Add tomato mixture and remaining ingredients; mix lightly.\n",
            "====================\n"
          ],
          "name": "stdout"
        }
      ]
    },
    {
      "cell_type": "code",
      "metadata": {
        "id": "obQkmHbAfS1g"
      },
      "source": [
        ""
      ],
      "execution_count": null,
      "outputs": []
    }
  ]
}